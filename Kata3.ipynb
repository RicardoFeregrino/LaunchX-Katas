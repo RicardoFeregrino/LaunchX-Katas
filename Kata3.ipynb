{
 "cells": [
  {
   "cell_type": "markdown",
   "metadata": {},
   "source": [
    "# Kata3"
   ]
  },
  {
   "cell_type": "markdown",
   "metadata": {},
   "source": [
    "## Ejercicio1\n",
    "Añadir el código necesario para crear una variable que guarde la velocidad del asteroide.\n",
    "\n",
    "Escribe una expresión de prueba para calcular si necesita una advertencia.\n",
    "\n",
    "Agregue las instrucciones que se ejecutarán si la expresión de prueba es true o false."
   ]
  },
  {
   "cell_type": "code",
   "execution_count": 1,
   "metadata": {},
   "outputs": [
    {
     "name": "stdout",
     "output_type": "stream",
     "text": [
      "Cuidado el asteroide se acerca demasiado rapido!\n"
     ]
    }
   ],
   "source": [
    "\n",
    "vAsteroide = 49\n",
    "\n",
    "if vAsteroide > 25:\n",
    "    print(\"Cuidado el asteroide se acerca demasiado rapido!\")\n",
    "else:\n",
    "    print(\"Todo en orden\")\n"
   ]
  },
  {
   "cell_type": "markdown",
   "metadata": {},
   "source": [
    "## Ejercicio2\n",
    "Agrega el código para crear una variable para un asteroide que viaja a 19 km/s\n",
    "\n",
    "Escribe varias expresiones de prueba para determinar si puedes ver el rayo de luz desde la tierra\n",
    "\n",
    "Agrega las instrucciones que se ejecutarán si las expresiones de prueba son True o False"
   ]
  },
  {
   "cell_type": "code",
   "execution_count": 2,
   "metadata": {},
   "outputs": [
    {
     "name": "stdout",
     "output_type": "stream",
     "text": [
      "Mira el cielo! Hay una luz en el cielo!\n"
     ]
    }
   ],
   "source": [
    "vAsteroide = 20\n",
    "if vAsteroide > 20:\n",
    "    print(\"Mira el cielo! Hay una luz en el cielo!\")\n",
    "elif vAsteroide == 20:\n",
    "    print(\"Mira el cielo! Hay una luz en el cielo!\")\n",
    "else:\n",
    "    print(\"Todo en orden\")"
   ]
  },
  {
   "cell_type": "markdown",
   "metadata": {},
   "source": [
    "## Ejercicio3\n",
    "\n",
    "Agrega el código para crear nuevas variables para la velocidad y el tamaño del asteroide\n",
    "\n",
    "Para probar el código, prueba con varias velocidades y tamaños\n",
    "\n",
    "Escribe varias expresiones de prueba o combinaciones de expresiones de prueba para determinar qué mensaje se debe enviar a Tierra."
   ]
  },
  {
   "cell_type": "code",
   "execution_count": 4,
   "metadata": {},
   "outputs": [
    {
     "name": "stdout",
     "output_type": "stream",
     "text": [
      "Mira el cielo! Hay una luz en el cielo!\n"
     ]
    }
   ],
   "source": [
    "vAsteroide = 25\n",
    "tAsteroide = 40\n",
    "\n",
    "if vAsteroide > 25 and tAsteroide > 25:\n",
    "    print(\"Alerta, un asteroide peligroso se acerca ala tierra!\")\n",
    "elif vAsteroide >= 20:\n",
    "    print(\"Mira el cielo! Hay una luz en el cielo!\")\n",
    "elif tAsteroide > 25:\n",
    "    print(\"Todo en orden\")\n",
    "else:\n",
    "    print(\"Todo en orden\")"
   ]
  }
 ],
 "metadata": {
  "interpreter": {
   "hash": "50c2a5a1a885c24c6de32af214cf0b81f5185693406bb64d658a21602c831da5"
  },
  "kernelspec": {
   "display_name": "Python 3.10.2 64-bit",
   "language": "python",
   "name": "python3"
  },
  "language_info": {
   "codemirror_mode": {
    "name": "ipython",
    "version": 3
   },
   "file_extension": ".py",
   "mimetype": "text/x-python",
   "name": "python",
   "nbconvert_exporter": "python",
   "pygments_lexer": "ipython3",
   "version": "3.10.2"
  },
  "orig_nbformat": 4
 },
 "nbformat": 4,
 "nbformat_minor": 2
}
