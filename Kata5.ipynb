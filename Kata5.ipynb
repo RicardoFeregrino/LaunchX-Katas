{
 "cells": [
  {
   "cell_type": "markdown",
   "metadata": {},
   "source": [
    "# Kata5"
   ]
  },
  {
   "cell_type": "markdown",
   "metadata": {},
   "source": [
    "## Ejercicio1\n"
   ]
  },
  {
   "cell_type": "code",
   "execution_count": null,
   "metadata": {},
   "outputs": [],
   "source": [
    "primerPlaneta = 149597870\n",
    "segundoPlaneta = 778547200\n",
    "\n",
    "distanciaKM = segundoPlaneta - primerPlaneta\n",
    "print(\"Distancia en KM:\",distanciaKM)\n",
    "\n",
    "distanciaMi = distanciaKM * 0.621  \n",
    "print(\"Distancia en Millas:\",distanciaMi)"
   ]
  },
  {
   "cell_type": "markdown",
   "metadata": {},
   "source": [
    "## Ejercicio2\n"
   ]
  },
  {
   "cell_type": "code",
   "execution_count": null,
   "metadata": {},
   "outputs": [],
   "source": [
    "primerPlaneta = int(input(\"Dame el valor de la primer distancia en KM: \"))\n",
    "segundoPlaneta = int(input(\"Dame el valor de la segunda distancia en KM: \"))\n",
    "\n",
    "distanciaKM = segundoPlaneta - primerPlaneta\n",
    "print(\"Distancia en KM:\",distanciaKM)\n",
    "\n",
    "distanciaMi = distanciaKM * 0.621  \n",
    "print(\"Distancia en Millas:\",distanciaMi)"
   ]
  }
 ],
 "metadata": {
  "interpreter": {
   "hash": "50c2a5a1a885c24c6de32af214cf0b81f5185693406bb64d658a21602c831da5"
  },
  "kernelspec": {
   "display_name": "Python 3.10.2 64-bit",
   "language": "python",
   "name": "python3"
  },
  "language_info": {
   "codemirror_mode": {
    "name": "ipython",
    "version": 3
   },
   "file_extension": ".py",
   "mimetype": "text/x-python",
   "name": "python",
   "nbconvert_exporter": "python",
   "pygments_lexer": "ipython3",
   "version": "3.10.2"
  },
  "orig_nbformat": 4
 },
 "nbformat": 4,
 "nbformat_minor": 2
}
